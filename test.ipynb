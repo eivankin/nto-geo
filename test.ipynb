{
 "cells": [
  {
   "cell_type": "code",
   "execution_count": null,
   "metadata": {},
   "outputs": [],
   "source": [
    "import requests\n",
    "import geojson\n",
    "import json\n",
    "import re"
   ]
  },
  {
   "cell_type": "code",
   "execution_count": null,
   "metadata": {},
   "outputs": [],
   "source": [
    "host = '192.168.1.62'\n",
    "port = 8888"
   ]
  },
  {
   "cell_type": "code",
   "execution_count": null,
   "metadata": {},
   "outputs": [],
   "source": [
    "def load_objects(bbox, class_code_regex):\n",
    "    result = []\n",
    "    \n",
    "    bbox_str = f'{bbox[0][0]},{bbox[0][1]},{bbox[1][0]},{bbox[1][1]}'\n",
    "    request = f'http://{host}:{port}/mapservices/oodb?request=apioodb&version=1.0.0&apioodbtype=loadobj&crs=epsg:4326&bbox=' + bbox_str\n",
    "\n",
    "    response = requests.get(request)\n",
    "    objects = json.loads(response.content)\n",
    "    for feature in objects['features']:\n",
    "        feature_class_code = feature['properties']['pidOOODBAttr_classCode']\n",
    "        if re.fullmatch(class_code_regex, feature_class_code):\n",
    "            result.append(feature)\n",
    "    \n",
    "    return result\n"
   ]
  },
  {
   "cell_type": "code",
   "execution_count": null,
   "metadata": {},
   "outputs": [],
   "source": [
    "# сохранение леса в json\n",
    "\n",
    "features = load_objects([[30.526789, 59.990233], [30.582344, 60.018394]], '30\\d{3}')\n",
    "features_json = json.dumps(features, indent=4)\n",
    "with open('les.json', 'w') as file:\n",
    "    file.write(features_json)\n"
   ]
  },
  {
   "cell_type": "code",
   "execution_count": null,
   "metadata": {},
   "outputs": [],
   "source": [
    "# update\n",
    "\n",
    "def update_object(id):\n",
    "    pass"
   ]
  },
  {
   "cell_type": "code",
   "execution_count": null,
   "metadata": {},
   "outputs": [],
   "source": [
    "bbox = '30.526789,59.990233,30.582344,60.018394&ids=1790599'\n",
    "request = 'http://192.168.1.62:8888/mapservices/oodb?request=apioodb&version=1.0.0&apioodbtype=loadobj&crs=epsg:4326&bbox=' + bbox\n",
    "response = requests.get(request)\n",
    "data = json.loads(response.content)\n",
    "print(json.dumps(data, indent=4))\n",
    "\n"
   ]
  },
  {
   "cell_type": "code",
   "execution_count": null,
   "metadata": {},
   "outputs": [],
   "source": [
    "request = 'http://192.168.1.62:8888/mapservices/oodb?request=apioodb&version=1.0.0&apioodbtype=loadobj&crs=epsg:4326&ids=3166140'\n",
    "response = requests.get(request)\n",
    "data = json.loads(response.content)\n",
    "print(json.dumps(data, indent=4))\n"
   ]
  },
  {
   "cell_type": "code",
   "execution_count": null,
   "metadata": {},
   "outputs": [],
   "source": [
    "# save\n",
    "\n",
    "forest = {'messgae': 'save test',\n",
    "          'features':\n",
    "              [\n",
    "                  {\n",
    "                      'properties':\n",
    "                          {'pidOOODBAttr_classCode': '30200', 'pidOOODBAttr_featureID': '0'},\n",
    "                      'geometry': {\n",
    "                          'coordinates': [[[30.551342, 60.013808],\n",
    "                                          [30.551342, 60.017778],\n",
    "                                          [30.560372, 60.017778],\n",
    "                                          [30.560372, 60.013808]]],\n",
    "                          'type':'Polygon'},\n",
    "                      'type': 'Feature'\n",
    "                  }\n",
    "              ],\n",
    "          'type': 'FeatureCollection'}\n",
    "\n",
    "\n",
    "print(json.dumps(forest))\n",
    "\n",
    "response = requests.post('http://192.168.1.62:8888/mapservices/oodb?request=apioodb&version=1.0.0&apioodbtype=saveobj', json=forest)\n",
    "\n",
    "print(response)\n",
    "print(response.content)"
   ]
  }
 ],
 "metadata": {
  "kernelspec": {
   "display_name": "Python 3",
   "language": "python",
   "name": "python3"
  },
  "language_info": {
   "codemirror_mode": {
    "name": "ipython",
    "version": 3
   },
   "file_extension": ".py",
   "mimetype": "text/x-python",
   "name": "python",
   "nbconvert_exporter": "python",
   "pygments_lexer": "ipython3",
   "version": "3.11.2"
  },
  "orig_nbformat": 4
 },
 "nbformat": 4,
 "nbformat_minor": 2
}
